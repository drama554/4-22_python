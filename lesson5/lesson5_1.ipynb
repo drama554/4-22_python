{
 "cells": [
  {
   "cell_type": "code",
   "execution_count": 1,
   "metadata": {},
   "outputs": [
    {
     "data": {
      "text/plain": [
       "True"
      ]
     },
     "execution_count": 1,
     "metadata": {},
     "output_type": "execute_result"
    }
   ],
   "source": [
    "5 > 6\n",
    "5 > 3\n",
    "5 >= 5"
   ]
  },
  {
   "cell_type": "code",
   "execution_count": 2,
   "metadata": {},
   "outputs": [
    {
     "data": {
      "text/plain": [
       "False"
      ]
     },
     "execution_count": 2,
     "metadata": {},
     "output_type": "execute_result"
    }
   ],
   "source": [
    "5 == 5\n",
    "5 != 5"
   ]
  },
  {
   "cell_type": "markdown",
   "metadata": {},
   "source": [
    "- if  bool 單向選擇 (有可能執行,有可能不執行)\n",
    "- if bool:   else: 雙向選擇(兩格程式區塊,會執行其中一個)\n",
    "\n"
   ]
  },
  {
   "cell_type": "code",
   "execution_count": 18,
   "metadata": {},
   "outputs": [
    {
     "name": "stdout",
     "output_type": "stream",
     "text": [
      "此人大於18 years old\n",
      "可以考駕照\n",
      "有投票權\n",
      "程式結束\n"
     ]
    }
   ],
   "source": [
    "age = 20\n",
    "if age >= 18:\n",
    "    print(\"此人大於18 years old\")\n",
    "    print(\"可以考駕照\")\n",
    "    print(\"有投票權\")\n",
    "print(\"程式結束\")"
   ]
  },
  {
   "cell_type": "markdown",
   "metadata": {},
   "source": [
    "- 輸入學生分數,總分為300分\n",
    "- 由您決定學生可不可以加5%"
   ]
  },
  {
   "cell_type": "code",
   "execution_count": 23,
   "metadata": {},
   "outputs": [
    {
     "name": "stdout",
     "output_type": "stream",
     "text": [
      "學生總分數是278\n"
     ]
    }
   ],
   "source": [
    "score:int|float = int(input('請請輸入學生的分數(最高300分)'))\n",
    "is_add:str = input('學生是否符合加分條件?(y,n)')\n",
    "if is_add == 'y':\n",
    "    score *= 1.05\n",
    "print(f'學生總分數是{round(score)}')\n"
   ]
  },
  {
   "cell_type": "markdown",
   "metadata": {},
   "source": [
    "- 輸入學生分數,總分為300分\n",
    "- 由您決定學生可不可以加5%\n",
    "- 超過300分,以300分計算\n",
    "\n"
   ]
  },
  {
   "cell_type": "code",
   "execution_count": 24,
   "metadata": {},
   "outputs": [
    {
     "name": "stdout",
     "output_type": "stream",
     "text": [
      "學生總分數是273\n"
     ]
    }
   ],
   "source": [
    "score:int|float = int(input(\"請輸入學生分數(最高300分)\"))\n",
    "is_add:str = input(\"學生是否符合加分條件?(y,n)\")\n",
    "if is_add == 'y':\n",
    "    score *= 1.05\n",
    "    if score > 300:\n",
    "        score = 300\n",
    "print(f'學生總分數是{round(score)}')"
   ]
  },
  {
   "cell_type": "markdown",
   "metadata": {},
   "source": [
    "- 輸入學生分數,總分為300分\n",
    "- 檢查學生輸入的分數,是否大於300分\n",
    "- 您決定學生可不可以加5%\n",
    "- 超過300分,以300分計算"
   ]
  },
  {
   "cell_type": "code",
   "execution_count": 25,
   "metadata": {},
   "outputs": [
    {
     "name": "stdout",
     "output_type": "stream",
     "text": [
      "輸入的分數不可以超過300分\n"
     ]
    }
   ],
   "source": [
    "score:int|float = int(input(\"請輸入學生分數(最高300分)\"))\n",
    "if score <= 300:\n",
    "    is_add:str = input(\"學生是否符合加分條件?(y,n)\")\n",
    "    if is_add == 'y':\n",
    "        score *= 1.05\n",
    "        if score > 300:\n",
    "            score = 300\n",
    "    print(f'學生總分數是{round(score)}')\n",
    "else:\n",
    "   print(\"輸入的分數不可以超過300分\") "
   ]
  },
  {
   "cell_type": "markdown",
   "metadata": {},
   "source": [
    "- 程式raise Exception\n",
    "- try...except..(優雅的失敗)\n"
   ]
  },
  {
   "cell_type": "code",
   "execution_count": 1,
   "metadata": {},
   "outputs": [
    {
     "name": "stdout",
     "output_type": "stream",
     "text": [
      "慶輸入格是錯誤\n",
      "應用程式結束\n"
     ]
    }
   ],
   "source": [
    "try:\n",
    "    money:int = int(input('請輸入金額'))\n",
    "    print(money)\n",
    "except ValueError: #只有處理ValueError的錯誤\n",
    "    print('請輸入格式錯誤')\n",
    "    print('應用程式結束')"
   ]
  },
  {
   "cell_type": "code",
   "execution_count": 3,
   "metadata": {},
   "outputs": [
    {
     "name": "stdout",
     "output_type": "stream",
     "text": [
      "1231\n"
     ]
    }
   ],
   "source": [
    "try:\n",
    "    money:int = int(input('請輸入金額'))\n",
    "    print(money)\n",
    "except Exception: #處理任何的錯誤\n",
    "    print('慶輸入格式錯誤')\n",
    "    print('應用程式結束')"
   ]
  },
  {
   "cell_type": "code",
   "execution_count": 5,
   "metadata": {},
   "outputs": [
    {
     "name": "stdout",
     "output_type": "stream",
     "text": [
      "慶輸入格是錯誤:invalid literal for int() with base 10: '2s1d'\n",
      "應用程式結束\n"
     ]
    }
   ],
   "source": [
    "try:\n",
    "    money:int = int(input('請輸入金額'))\n",
    "    print(money)\n",
    "except Exception as e: #處理任何的錯誤,輸出錯誤的內容\n",
    "    print(f'請輸入格式錯誤:{e}')\n",
    "    print('應用程式結束')"
   ]
  }
 ],
 "metadata": {
  "kernelspec": {
   "display_name": "Python 3",
   "language": "python",
   "name": "python3"
  },
  "language_info": {
   "codemirror_mode": {
    "name": "ipython",
    "version": 3
   },
   "file_extension": ".py",
   "mimetype": "text/x-python",
   "name": "python",
   "nbconvert_exporter": "python",
   "pygments_lexer": "ipython3",
   "version": "3.10.14"
  }
 },
 "nbformat": 4,
 "nbformat_minor": 2
}
