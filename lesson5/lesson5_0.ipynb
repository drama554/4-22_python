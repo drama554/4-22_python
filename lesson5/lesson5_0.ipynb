{
 "cells": [
  {
   "cell_type": "code",
   "execution_count": 11,
   "metadata": {
    "metadata": {}
   },
   "outputs": [
    {
     "name": "stdout",
     "output_type": "stream",
     "text": [
      "張貴紋,你的BMI:23.15\n"
     ]
    }
   ],
   "source": [
    "try:\n",
    "    name:str = input('請輸入姓名:')\n",
    "    height:float = float(input('請輸入身高(cm):'))\n",
    "    weight:float  = float(input('請輸入體重(kg):'))\n",
    "    BMI = weight / ((height / 100) ** 2)\n",
    "    print(f\"{name},你的BMI:{BMI:.2f}\")\n",
    "except Exception as a:\n",
    "    print(f\"格式錯誤:{a}\")"
   ]
  },
  {
   "cell_type": "code",
   "execution_count": 12,
   "metadata": {
    "metadata": {}
   },
   "outputs": [
    {
     "name": "stdout",
     "output_type": "stream",
     "text": [
      "格式錯誤:could not convert string to float: 'aaa'\n"
     ]
    }
   ],
   "source": [
    "try:\n",
    "    name:str = input('請輸入姓名:')\n",
    "    height:float = float(input('請輸入身高(cm):'))\n",
    "    weight:float  = float(input('請輸入體重(kg):'))\n",
    "    BMI = weight / ((height / 100) ** 2)\n",
    "    print(f\"{name},你的BMI:{BMI:.2f}\")\n",
    "except Exception as a:\n",
    "    print(f\"格式錯誤:{a}\")"
   ]
  }
 ],
 "metadata": {
  "kernelspec": {
   "display_name": "Python 3",
   "language": "python",
   "name": "python3"
  },
  "language_info": {
   "codemirror_mode": {
    "name": "ipython",
    "version": 3
   },
   "file_extension": ".py",
   "mimetype": "text/x-python",
   "name": "python",
   "nbconvert_exporter": "python",
   "pygments_lexer": "ipython3",
   "version": "3.10.14"
  }
 },
 "nbformat": 4,
 "nbformat_minor": 2
}
