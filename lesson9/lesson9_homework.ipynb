{
 "cells": [
  {
   "cell_type": "code",
   "execution_count": 1,
   "metadata": {},
   "outputs": [
    {
     "name": "stdout",
     "output_type": "stream",
     "text": [
      "請輸入身高(cm): Blank values are not allowed.\n",
      "請輸入身高(cm): 請輸入體重(kg): \n",
      "oscar您好:\n",
      "您的BMI值是: 22.84\n",
      "您的體重: 正常\n",
      "\n"
     ]
    }
   ],
   "source": [
    "import pyinputplus as pyip\n",
    "\n",
    "class BMI():\n",
    "    def __init__(self, name: str, height: float, weight: float):\n",
    "        super().__init__()\n",
    "        self.name = name\n",
    "        self.height = height\n",
    "        self.weight = weight\n",
    "\n",
    "    def __repr__(self):\n",
    "        return f'\\n{self.name}您好:'\n",
    "    \n",
    "    @property\n",
    "    def bmi(self):\n",
    "        return self.weight / (self.height / 100) ** 2\n",
    "    \n",
    "    def status(self) -> str:\n",
    "        if self.bmi < 18.5:\n",
    "            result = '過輕'\n",
    "        elif self.bmi < 24:\n",
    "            result = '正常'\n",
    "        elif self.bmi < 27:\n",
    "            result = '過重'\n",
    "        elif self.bmi < 30:\n",
    "            result = '輕度肥胖'\n",
    "        elif self.bmi < 35:\n",
    "            result = '中度肥胖'\n",
    "        else:\n",
    "            result = '重度肥胖'\n",
    "        return result\n",
    "    \n",
    "name = input('請輸入姓名: ')\n",
    "height = pyip.inputFloat('請輸入身高(cm): ', min=0)\n",
    "weight = pyip.inputFloat('請輸入體重(kg): ', min=0)\n",
    "\n",
    "p1 = BMI(name, height, weight)\n",
    "print(f'{p1}\\n您的BMI值是: {p1.bmi:.2f}\\n您的體重: {p1.status()}\\n')"
   ]
  },
  {
   "cell_type": "code",
   "execution_count": 2,
   "metadata": {},
   "outputs": [
    {
     "name": "stdout",
     "output_type": "stream",
     "text": [
      "請輸入身高(cm): 請輸入體重(kg): \n",
      "oscar您好:\n",
      "您的BMI值是: 22.84\n",
      "您的體重: 正常\n",
      "\n"
     ]
    }
   ],
   "source": [
    "from dataclasses import dataclass\n",
    "import pyinputplus as pyip\n",
    "\n",
    "@dataclass\n",
    "class BMI():\n",
    "    name: str\n",
    "    height: float\n",
    "    weight: float\n",
    "\n",
    "    @property\n",
    "    def bmi(self):\n",
    "        return self.weight / (self.height / 100) ** 2\n",
    "    \n",
    "    def status(self) -> str:\n",
    "        if self.bmi < 18.5:\n",
    "            result = '過輕'\n",
    "        elif self.bmi < 24:\n",
    "            result = '正常'\n",
    "        elif self.bmi < 27:\n",
    "            result = '過重'\n",
    "        elif self.bmi < 30:\n",
    "            result = '輕度肥胖'\n",
    "        elif self.bmi < 35:\n",
    "            result = '中度肥胖'\n",
    "        else:\n",
    "            result = '重度肥胖'\n",
    "        return result\n",
    "    \n",
    "name = input('請輸入姓名: ')\n",
    "height = pyip.inputFloat('請輸入身高(cm): ', min=0)\n",
    "weight = pyip.inputFloat('請輸入體重(kg): ', min=0)\n",
    "\n",
    "p1 = BMI(name, height, weight)\n",
    "print(f'\\n{p1.name}您好:\\n您的BMI值是: {p1.bmi:.2f}\\n您的體重: {p1.status()}\\n')"
   ]
  }
 ],
 "metadata": {
  "kernelspec": {
   "display_name": "Python 3",
   "language": "python",
   "name": "python3"
  },
  "language_info": {
   "codemirror_mode": {
    "name": "ipython",
    "version": 3
   },
   "file_extension": ".py",
   "mimetype": "text/x-python",
   "name": "python",
   "nbconvert_exporter": "python",
   "pygments_lexer": "ipython3",
   "version": "3.10.14"
  }
 },
 "nbformat": 4,
 "nbformat_minor": 2
}
