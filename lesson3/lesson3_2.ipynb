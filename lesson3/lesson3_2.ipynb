{
 "cells": [
  {
   "cell_type": "markdown",
   "metadata": {},
   "source": [
    "# 輸出->print()\n",
    "## 輸入->input()"
   ]
  },
  {
   "cell_type": "code",
   "execution_count": 1,
   "metadata": {},
   "outputs": [
    {
     "name": "stdout",
     "output_type": "stream",
     "text": [
      "寬:12.0公分,高:15.0公分,面積:180.0平方公分\n"
     ]
    }
   ],
   "source": [
    "width:float = float(input('請輸入矩形寬:'))\n",
    "height:float = float(input('請輸入矩形高:'))\n",
    "area:float = width * height\n",
    "print(f'寬:{width}公分,高:{height}公分,面積:{area}平方公分')"
   ]
  },
  {
   "cell_type": "code",
   "execution_count": 2,
   "metadata": {},
   "outputs": [
    {
     "name": "stdout",
     "output_type": "stream",
     "text": [
      "計算園面積\n",
      "圓半徑:10.0,圓面積:314.15927\n",
      "圓半徑:10.0,圓面積:314.1592653589793\n",
      "圓半徑:10.00000,圓面積:314.16\n"
     ]
    }
   ],
   "source": [
    "#計算園面積\n",
    "print('計算園面積')\n",
    "radius:float = float(input('請輸入半徑'))\n",
    "import math\n",
    "area:float = math.pi * radius ** 2\n",
    "print(f\"圓半徑:{radius},圓面積:{math.pi * radius ** 2:.5f}\")\n",
    "print(f\"圓半徑:{radius},圓面積:{area}\")\n",
    "print(f\"圓半徑:{radius:.5f},圓面積:{area:.2f}\")"
   ]
  }
 ],
 "metadata": {
  "kernelspec": {
   "display_name": "Python 3",
   "language": "python",
   "name": "python3"
  },
  "language_info": {
   "codemirror_mode": {
    "name": "ipython",
    "version": 3
   },
   "file_extension": ".py",
   "mimetype": "text/x-python",
   "name": "python",
   "nbconvert_exporter": "python",
   "pygments_lexer": "ipython3",
   "version": "3.10.14"
  }
 },
 "nbformat": 4,
 "nbformat_minor": 2
}
