{
 "cells": [
  {
   "cell_type": "code",
   "execution_count": 1,
   "metadata": {},
   "outputs": [],
   "source": [
    "file = open('names.txt',encoding='utf-8')\n",
    "file.close()"
   ]
  },
  {
   "cell_type": "code",
   "execution_count": 47,
   "metadata": {},
   "outputs": [
    {
     "name": "stdout",
     "output_type": "stream",
     "text": [
      "陳怡伶\n",
      "馮芳如\n",
      "蒙淑惠\n",
      "===========\n",
      "陳怡伶\n",
      "馮芳如\n",
      "蒙淑惠\n",
      "['陳怡伶', '馮芳如']\n",
      "['陳怡伶', '馮芳如', '蒙淑惠', '張軒宸', '陳向愛']\n",
      "['李淑芳', '謝南慧', '趙家豪', '龐皓芳', '張彥博']\n"
     ]
    }
   ],
   "source": [
    "with open('names.txt',encoding='utf-8') as file:\n",
    "    content:str = file.read()\n",
    "\n",
    "names:list[str] = content.split(sep='\\n')\n",
    "for name in names[:3]:\n",
    "    print(name)\n",
    "print(\"===========\")\n",
    "#subscript的語法\n",
    "print(names[0])\n",
    "print(names[1])\n",
    "print(names[2])\n",
    "print(names[0:2]) #slice\n",
    "print(names[:5]) #slice ->前5個\n",
    "print(names[-5:]) #slice->後5個"
   ]
  },
  {
   "cell_type": "code",
   "execution_count": 11,
   "metadata": {},
   "outputs": [
    {
     "name": "stdout",
     "output_type": "stream",
     "text": [
      "o s c a r "
     ]
    }
   ],
   "source": [
    "for letter in 'oscar':\n",
    "    print(letter, end=' ')"
   ]
  },
  {
   "cell_type": "code",
   "execution_count": 39,
   "metadata": {},
   "outputs": [
    {
     "name": "stdout",
     "output_type": "stream",
     "text": [
      "[]\n",
      "['a', 'b', 'c']\n",
      "[]\n",
      "\n"
     ]
    }
   ],
   "source": [
    "#建立空的list,使用初始化\n",
    "print(list())\n",
    "print(list('abc'))\n",
    "\n",
    "print([])\n",
    "print"
   ]
  },
  {
   "cell_type": "code",
   "execution_count": 49,
   "metadata": {},
   "outputs": [
    {
     "name": "stdout",
     "output_type": "stream",
     "text": [
      "請輸入取得名字的數量\n",
      "陳冠竹 柯宜臻 陳奇瑄 林希啟 李政成 \n"
     ]
    }
   ],
   "source": [
    "import random\n",
    "import pyinputplus as pyip\n",
    "\n",
    "with open('names.txt',encoding='utf-8') as file:\n",
    "    content:str = file.read()\n",
    "\n",
    "n:int = pyip.inputInt(\"請輸入取得名字的數量\",min=0,max=200)\n",
    "print()\n",
    "names:list[str] = content.split(sep='\\n')\n",
    "random_names:list[str] = random.choices(population=names,k=n)\n",
    "for name in random_names:\n",
    "    print(name,end=' ')\n",
    "print()"
   ]
  }
 ],
 "metadata": {
  "kernelspec": {
   "display_name": "Python 3",
   "language": "python",
   "name": "python3"
  },
  "language_info": {
   "codemirror_mode": {
    "name": "ipython",
    "version": 3
   },
   "file_extension": ".py",
   "mimetype": "text/x-python",
   "name": "python",
   "nbconvert_exporter": "python",
   "pygments_lexer": "ipython3",
   "version": "3.10.14"
  }
 },
 "nbformat": 4,
 "nbformat_minor": 2
}
