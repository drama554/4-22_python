{
 "cells": [
  {
   "cell_type": "code",
   "execution_count": 26,
   "metadata": {},
   "outputs": [
    {
     "name": "stdout",
     "output_type": "stream",
     "text": [
      "請輸入整數,求所有因數:223445\n",
      "223445的因數是:\n",
      "1 5 23 29 67 115 145 335 667 1541 1943 3335 7705 9715 44689 223445 "
     ]
    }
   ],
   "source": [
    "import pyinputplus as pyip \n",
    "\n",
    "x = pyip.inputInt('請輸入整數,求所有因數:')\n",
    "print(x)\n",
    "print(f'{x}的因數是:')\n",
    "for i in range(1,x+1):\n",
    "    if x % i == 0:\n",
    "        print(i,end= ' ')"
   ]
  },
  {
   "cell_type": "code",
   "execution_count": 25,
   "metadata": {},
   "outputs": [
    {
     "data": {
      "text/plain": [
       "37"
      ]
     },
     "execution_count": 25,
     "metadata": {},
     "output_type": "execute_result"
    }
   ],
   "source": [
    "import random\n",
    "\n",
    "min = 1\n",
    "max = 100\n",
    "target = random.randint(min,max)\n",
    "target\n"
   ]
  },
  {
   "cell_type": "code",
   "execution_count": 27,
   "metadata": {},
   "outputs": [
    {
     "name": "stdout",
     "output_type": "stream",
     "text": [
      "=========猜數字遊戲============\n",
      "\n",
      "猜數字的範圍1~100:63\n",
      "再大一點\n",
      "您已經猜了1次\n",
      "猜數字的範圍64~100:55\n",
      "再大一點\n",
      "您已經猜了2次\n",
      "猜數字的範圍56~100:Blank values are not allowed.\n",
      "猜數字的範圍56~100:89\n",
      "再小一點\n",
      "您已經猜了3次\n",
      "猜數字的範圍56~88:77\n",
      "再小一點\n",
      "您已經猜了4次\n",
      "猜數字的範圍56~76:'++' is not an integer.\n",
      "猜數字的範圍56~76:66\n",
      "再大一點\n",
      "您已經猜了5次\n",
      "猜數字的範圍67~76:75\n",
      "再小一點\n",
      "您已經猜了6次\n",
      "猜數字的範圍67~74:Blank values are not allowed.\n",
      "猜數字的範圍67~74:72\n",
      "再小一點\n",
      "您已經猜了7次\n",
      "猜數字的範圍67~71:69\n",
      "再小一點\n",
      "您已經猜了8次\n",
      "猜數字的範圍67~68:67\n",
      "賓果!猜對了, 答案是:67\n",
      "您總共猜了9次\n",
      "遊戲結束\n"
     ]
    }
   ],
   "source": [
    "import random\n",
    "import pyinputplus as pyip\n",
    "\n",
    "min = 1\n",
    "max = 100\n",
    "count = 0\n",
    "target = random.randint(min,max)\n",
    "print(\"=========猜數字遊戲============\\n\")\n",
    "while True:\n",
    "    count += 1\n",
    "    keyin = pyip.inputInt(f\"猜數字的範圍{min}~{max}:\")\n",
    "    print(keyin)\n",
    "    if keyin == target:\n",
    "        print(f\"賓果!猜對了, 答案是:{target}\")\n",
    "        print(f\"您總共猜了{count}次\")\n",
    "        break\n",
    "    elif(keyin > target):        \n",
    "        print(\"再小一點\")\n",
    "        max = keyin-1        \n",
    "    elif(keyin < target):\n",
    "        print(\"再大一點\")\n",
    "        min = keyin + 1\n",
    "    print(f'您已經猜了{count}次')\n",
    "\n",
    "print(\"遊戲結束\")"
   ]
  }
 ],
 "metadata": {
  "kernelspec": {
   "display_name": "Python 3",
   "language": "python",
   "name": "python3"
  },
  "language_info": {
   "codemirror_mode": {
    "name": "ipython",
    "version": 3
   },
   "file_extension": ".py",
   "mimetype": "text/x-python",
   "name": "python",
   "nbconvert_exporter": "python",
   "pygments_lexer": "ipython3",
   "version": "3.10.14"
  }
 },
 "nbformat": 4,
 "nbformat_minor": 2
}
