{
 "cells": [
  {
   "cell_type": "code",
   "execution_count": 1,
   "metadata": {},
   "outputs": [
    {
     "data": {
      "text/plain": [
       "\"That is Alice's cat.\""
      ]
     },
     "execution_count": 1,
     "metadata": {},
     "output_type": "execute_result"
    }
   ],
   "source": [
    "\"That is Alice's cat.\""
   ]
  },
  {
   "cell_type": "code",
   "execution_count": 3,
   "metadata": {},
   "outputs": [
    {
     "data": {
      "text/plain": [
       "\"That is Alice's cat.\""
      ]
     },
     "execution_count": 3,
     "metadata": {},
     "output_type": "execute_result"
    }
   ],
   "source": [
    "'That is Alice\\'s cat.'"
   ]
  },
  {
   "cell_type": "code",
   "execution_count": 4,
   "metadata": {},
   "outputs": [
    {
     "data": {
      "text/plain": [
       "'Oscar'"
      ]
     },
     "execution_count": 4,
     "metadata": {},
     "output_type": "execute_result"
    }
   ],
   "source": [
    "#str不可數變數\n",
    "#tuple也是不可以改變\n",
    "name:str = \"oscar\"\n",
    "f'Helle!{name}'\n",
    "name1 = name.capitalize()\n",
    "name1"
   ]
  },
  {
   "cell_type": "code",
   "execution_count": 6,
   "metadata": {},
   "outputs": [
    {
     "data": {
      "text/plain": [
       "'Hello!oscar'"
      ]
     },
     "execution_count": 6,
     "metadata": {},
     "output_type": "execute_result"
    }
   ],
   "source": [
    "name:str = 'oscar'\n",
    "'Hello!{}'.format(name) #str的實體方法format()\n"
   ]
  },
  {
   "cell_type": "code",
   "execution_count": 7,
   "metadata": {},
   "outputs": [
    {
     "data": {
      "text/plain": [
       "'2024-05-29'"
      ]
     },
     "execution_count": 7,
     "metadata": {},
     "output_type": "execute_result"
    }
   ],
   "source": [
    "date:str = '2024/05/29'\n",
    "date:list = date.split('/')\n",
    "date_format:str = '-'.join(date)\n",
    "date_format"
   ]
  },
  {
   "cell_type": "code",
   "execution_count": 8,
   "metadata": {},
   "outputs": [
    {
     "data": {
      "text/plain": [
       "\"That is Alise's cat.\""
      ]
     },
     "execution_count": 8,
     "metadata": {},
     "output_type": "execute_result"
    }
   ],
   "source": [
    "'That is Alise\\'s cat.'"
   ]
  },
  {
   "cell_type": "code",
   "execution_count": 9,
   "metadata": {},
   "outputs": [
    {
     "name": "stdout",
     "output_type": "stream",
     "text": [
      "That is Alice\\'s cat.\n"
     ]
    }
   ],
   "source": [
    "#raw string\n",
    "print(r'That is Alice\\'s cat.')"
   ]
  },
  {
   "cell_type": "code",
   "execution_count": 10,
   "metadata": {},
   "outputs": [
    {
     "name": "stdout",
     "output_type": "stream",
     "text": [
      "【記者呂承哲／綜合報導】費城半導體指數今年以來上漲27.36%，AI王者輝達股價更\n",
      "是大漲136%，高居半導體股之冠，然而，半導體巨頭英特爾股價今\n",
      "年卻下跌35%，台積電ADR則是今年以來大漲57%。對此，財信傳媒董\n",
      "事長謝金河表示，在AI帶領的全球半導體產業奔騰中，英特爾單獨向後退，問題當然不單純。\n"
     ]
    }
   ],
   "source": [
    "#多行文字\n",
    "message = \"\"\"【記者呂承哲／綜合報導】費城半導體指數今年以來上漲27.36%，AI王者輝達股價更\n",
    "是大漲136%，高居半導體股之冠，然而，半導體巨頭英特爾股價今\n",
    "年卻下跌35%，台積電ADR則是今年以來大漲57%。對此，財信傳媒董\n",
    "事長謝金河表示，在AI帶領的全球半導體\\\n",
    "產業奔騰中，英特爾單獨向後退，問題當然不單純。\"\"\"\n",
    "print(message)\n"
   ]
  }
 ],
 "metadata": {
  "kernelspec": {
   "display_name": "Python 3",
   "language": "python",
   "name": "python3"
  },
  "language_info": {
   "codemirror_mode": {
    "name": "ipython",
    "version": 3
   },
   "file_extension": ".py",
   "mimetype": "text/x-python",
   "name": "python",
   "nbconvert_exporter": "python",
   "pygments_lexer": "ipython3",
   "version": "3.10.14"
  }
 },
 "nbformat": 4,
 "nbformat_minor": 2
}
