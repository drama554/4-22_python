{
 "cells": [
  {
   "cell_type": "code",
   "execution_count": 3,
   "metadata": {},
   "outputs": [
    {
     "name": "stdout",
     "output_type": "stream",
     "text": [
      "3\n",
      "3.1\n",
      "3.14\n"
     ]
    }
   ],
   "source": [
    "print(round(3.1415926))\n",
    "print(round(3.1415926,ndigits = 1))\n",
    "print(round(3.1415926,ndigits = 2))"
   ]
  },
  {
   "cell_type": "code",
   "execution_count": 6,
   "metadata": {},
   "outputs": [
    {
     "name": "stdout",
     "output_type": "stream",
     "text": [
      "4\n",
      "3\n"
     ]
    }
   ],
   "source": [
    "import math\n",
    "print(math.ceil(3.1415926))\n",
    "print(math.floor(3.1415926))"
   ]
  },
  {
   "cell_type": "code",
   "execution_count": 8,
   "metadata": {},
   "outputs": [
    {
     "name": "stdout",
     "output_type": "stream",
     "text": [
      "10\n"
     ]
    }
   ],
   "source": [
    "n = 10\n",
    "n * 5\n",
    "print(n)"
   ]
  },
  {
   "cell_type": "code",
   "execution_count": 9,
   "metadata": {},
   "outputs": [
    {
     "name": "stdout",
     "output_type": "stream",
     "text": [
      "50\n"
     ]
    }
   ],
   "source": [
    "n = 10\n",
    "n = n * 5\n",
    "print(n)"
   ]
  },
  {
   "cell_type": "markdown",
   "metadata": {},
   "source": [
    "## 複合子定運算值"
   ]
  },
  {
   "cell_type": "code",
   "execution_count": 7,
   "metadata": {},
   "outputs": [
    {
     "name": "stdout",
     "output_type": "stream",
     "text": [
      "50\n"
     ]
    }
   ],
   "source": [
    "n = 10\n",
    "n *= 5\n",
    "print(n)"
   ]
  },
  {
   "cell_type": "markdown",
   "metadata": {},
   "source": [
    "### 請使用者輸入一個任意數,程式會顯示此數的平方值及立方值"
   ]
  },
  {
   "cell_type": "code",
   "execution_count": 13,
   "metadata": {},
   "outputs": [
    {
     "name": "stdout",
     "output_type": "stream",
     "text": [
      "您輸入的數值是10,平方值是100\n",
      "您輸入的數值是10,立方值是1000\n"
     ]
    }
   ],
   "source": [
    "source_value = eval(input(\"請輸入任意數:\"))\n",
    "value = source_value\n",
    "value **= 2\n",
    "print(f\"您輸入的數值是{source_value},平方值是{value}\")\n",
    "value = source_value\n",
    "value **= 3\n",
    "print(f\"您輸入的數值是{source_value},立方值是{value}\")"
   ]
  },
  {
   "cell_type": "code",
   "execution_count": 14,
   "metadata": {},
   "outputs": [
    {
     "name": "stdout",
     "output_type": "stream",
     "text": [
      "您輸入的數值是10,平方值是100\n",
      "您輸入的數值是10,立方值是1000\n"
     ]
    }
   ],
   "source": [
    "value = eval(input(\"請輸入任意數:\"))\n",
    "\n",
    "print(f\"您輸入的數值是{value},平方值是{value ** 2}\")\n",
    "\n",
    "print(f\"您輸入的數值是{value},立方值是{value ** 3}\")"
   ]
  }
 ],
 "metadata": {
  "kernelspec": {
   "display_name": "Python 3",
   "language": "python",
   "name": "python3"
  },
  "language_info": {
   "codemirror_mode": {
    "name": "ipython",
    "version": 3
   },
   "file_extension": ".py",
   "mimetype": "text/x-python",
   "name": "python",
   "nbconvert_exporter": "python",
   "pygments_lexer": "ipython3",
   "version": "3.10.14"
  }
 },
 "nbformat": 4,
 "nbformat_minor": 2
}
